{
 "cells": [
  {
   "cell_type": "markdown",
   "id": "333796de",
   "metadata": {},
   "source": [
    "<h1 style=\"color: red\">NumPY Assignment</h1>\n",
    "<h4 style=\"color: gray\">\n",
    "    Name - Sriansh Raj Pradhan <br>\n",
    "    Roll - 21052882\n",
    "</h4>\n",
    "<hr style=\"border: 1px solid\">"
   ]
  },
  {
   "cell_type": "markdown",
   "id": "dbf03993",
   "metadata": {},
   "source": [
    "    Q1. NumPY Stands for ?\n",
    "    A) Numerical Python\n",
    "    B) Number In Python\n",
    "    C) Numbering Python\n",
    "    D) None of the above\n",
    "\n",
    "   `A) Numerical Python`"
   ]
  },
  {
   "cell_type": "markdown",
   "id": "7734f85b",
   "metadata": {},
   "source": [
    "    Q2. What is a correct syntax to create a NumPy array ?\n",
    "    A) np.object([1, 2, 3, 4, 5])\n",
    "    B) np.array([1, 2, 3, 4, 5])\n",
    "    C) np.createArray([1, 2, 3, 4, 5])\n",
    "    D) None of the above\n",
    "\n",
    "   `B) np.array([1, 2, 3, 4, 5])`"
   ]
  },
  {
   "cell_type": "markdown",
   "id": "16f473ad",
   "metadata": {},
   "source": [
    "    Q3. Which of the following arrays is a two dimensional (2-D) array ?\n",
    "    A) [[1, 2, 3], [4, 5, 6]]\n",
    "    B) [1, 2, 3, 4, 5]\n",
    "    C) [[[1, 2, 3, 4, 5]]]\n",
    "    D) 45\n",
    "\n",
    "   `A) [[1, 2, 3], [4, 5, 6]]`"
   ]
  },
  {
   "cell_type": "markdown",
   "id": "deb833c3",
   "metadata": {},
   "source": [
    "    Q4. What is a correct syntax to check the number of dimensions in an array ?\n",
    "    A) arr.dim()\n",
    "    B) arr.ndim\n",
    "    C) arr.ndim()\n",
    "    D) arr.dim\n",
    "\n",
    "   `B) arr.ndim`"
   ]
  },
  {
   "cell_type": "markdown",
   "id": "afc0ad83",
   "metadata": {},
   "source": [
    "    Q5.  What is correct syntax to print the first item of an array ?\n",
    "    A) print(myArr, 1)\n",
    "    B) print(myArr[0])\n",
    "    C) print(myArr[1])\n",
    "    D) None of Above\n",
    "   `B) print(myArr[0])`"
   ]
  },
  {
   "cell_type": "markdown",
   "id": "726b7355",
   "metadata": {},
   "source": [
    "    Q6. What is correct syntax to print the number 8 from the array below \n",
    "    arr = np.array([[1, 2, 3, 4, 5], [6, 7, 8, 9, 10]])\n",
    "    A) print(arr[7, 2])\n",
    "    B) print(arr[1, 2])\n",
    "    C) print(arr[2, 3])\n",
    "    D) print(arr[1, 3])\n",
    "   `B) print(arr[1, 2])`"
   ]
  },
  {
   "cell_type": "markdown",
   "id": "93f9f990",
   "metadata": {},
   "source": [
    "    Q7. What is correct syntax to print the number [3, 4, 5] from the array below: \n",
    "    arr = np.array([1, 2, 3, 4, 5, 6, 7])\n",
    "    A) print(arr[2:6])\n",
    "    B) print(arr[2:5])\n",
    "    C) print(arr[2:4])\n",
    "    D) print(arr[3:6])\n",
    "   `B) print(arr[2:5])`"
   ]
  },
  {
   "cell_type": "markdown",
   "id": "acce2d1f",
   "metadata": {},
   "source": [
    "    Q8. Which syntax would print the last 4 numbers from the array below \n",
    "    arr = np.array([1, 2, 3, 4, 5, 6, 7])\n",
    "    A) print(arr[3:])\n",
    "    B) print(arr[4])\n",
    "    C) print(arr[4:])\n",
    "    D) print(arr[:4])\n",
    "   `A) print(arr[3:])`"
   ]
  },
  {
   "cell_type": "markdown",
   "id": "7bd0b8ce",
   "metadata": {},
   "source": [
    "    Q9. Which syntax would print every other item from the array below\n",
    "    arr = np.array([1, 2, 3, 4, 5, 6, 7])\n",
    "    A) print(arr[0:6:2])\n",
    "    B) print(arr[::2])\n",
    "    C) print(arr[1:3:5:7])\n",
    "    D) print(arr[1::2])\n",
    "   `B) print(arr[::2])`"
   ]
  },
  {
   "cell_type": "markdown",
   "id": "d987ac6b",
   "metadata": {},
   "source": [
    "    Q10. What is a correct syntax to check the data type of an array ?\n",
    "    A) arr.dtype\n",
    "    B) arr.datatype\n",
    "    C) arr.type\n",
    "    D) print(type(arr))\n",
    "   `A) arr.dtype`"
   ]
  },
  {
   "cell_type": "markdown",
   "id": "2ef6a029",
   "metadata": {},
   "source": [
    "    Q11. What is a correct syntax to create an array of type float ?\n",
    "    A) arr = np.float([1, 2, 3, 4])\n",
    "    B) arr = np.array([1, 2, 3, 4]).toFloat()\n",
    "    C) arr = np.array([1, 2, 3, 4], dtype=np.float)\n",
    "    D) arr = np.array([1, 2, 3, 4], type=float)\n",
    "   `C) arr = np.array([1, 2, 3, 4], dtype=np.float)`"
   ]
  },
  {
   "cell_type": "markdown",
   "id": "ca364563",
   "metadata": {},
   "source": [
    "    Q12. Only one of the following statements is true when it comes to Views in NumPy, which one ?\n",
    "    A) The view SHOULD NOT be affected by the changes made to the original array.\n",
    "    B) The view SHOULD BE Affected by the changes made to the original array.\n",
    "    C) Changes Made to View Will not Reflect to Original Array.\n",
    "    D) Views are Deep Copy of Original Array.\n",
    "   `B) The view SHOULD BE Affected by the changes made to the original array.`"
   ]
  },
  {
   "cell_type": "markdown",
   "id": "3ca91059",
   "metadata": {},
   "source": [
    "    Q13. Only one of the following statemets is true when it comes to Copies in NumPy which one ?\n",
    "    A) The copy SHOULD be affected by the changes made to the original array.\n",
    "    B) Original Array SHOULD be affected by Changes Made to the Copy.\n",
    "    C) The copy SHOULD NOT be affected by the changes made to the original array.\n",
    "    D) Copy is just SHALLOW COPY of Original Array\n",
    "   `C) The copy SHOULD NOT be affected by the changes made to the original array.`"
   ]
  },
  {
   "cell_type": "markdown",
   "id": "30e5aabc",
   "metadata": {},
   "source": [
    "    Q14. In Numpy, what does the SHAPE of an array mean ?\n",
    "    A) The shape is the number of columns.\n",
    "    B) The shape is the number of rows. \n",
    "    C) The shape is the number of elements in each dimensions.\n",
    "    D) None of the Above\n",
    "   `C) The shape is the number of elements in each dimensions.`"
   ]
  },
  {
   "cell_type": "markdown",
   "id": "9a60680c",
   "metadata": {},
   "source": [
    "    Q15. What is a correct syntax to return the shape of an array ?\n",
    "    A) arr.shape\n",
    "    B) arr.shape()\n",
    "    C) shape(arr)\n",
    "    D) arr.ndim\n",
    "   `A) arr.shape`"
   ]
  },
  {
   "cell_type": "markdown",
   "id": "78722da8",
   "metadata": {},
   "source": [
    "    Q16. What is a correct method to join two or more arrays ?\n",
    "    A) Concatenate()\n",
    "    B) array_join()\n",
    "    C) Join()\n",
    "    D) None of the Above\n",
    "   `A) Concatenate()`"
   ]
  },
  {
   "cell_type": "markdown",
   "id": "d22b48c6",
   "metadata": {},
   "source": [
    "    Q17. What is a correct method to split arrays ?\n",
    "    A) array_split()\n",
    "    B) vstack()\n",
    "    C) hstack()\n",
    "    D) All the other 3 answeres are correct\n",
    "   `D) All the other 3 answeres are correct`"
   ]
  },
  {
   "cell_type": "markdown",
   "id": "eb7cd3d2",
   "metadata": {},
   "source": [
    "    Q18. What is a correct method to search for a certain value in an array ?\n",
    "    A) where()\n",
    "    B) search()\n",
    "    C) find()\n",
    "    D) None of the Above\n",
    "   `A) where()`"
   ]
  },
  {
   "cell_type": "markdown",
   "id": "425e3f14",
   "metadata": {},
   "source": [
    "    Q19. What is a correct syntax to return the index of all items that has the value 4 from the array below ?\n",
    "    arr = np.array([1, 4, 3, 4, 5, 4, 4])\n",
    "    A) np.where(arr==4)\n",
    "    B) np.search(4)\n",
    "    C) arr.find(4)\n",
    "    D) arr[arr==4]\n",
    "   `A) np.where(arr==4)`"
   ]
  },
  {
   "cell_type": "markdown",
   "id": "20ff5982",
   "metadata": {},
   "source": [
    "    Q19. What is a correct method to sort the elements of an array ?\n",
    "    A) orderby()\n",
    "    B) order()\n",
    "    C) sort()\n",
    "    D) argsort()\n",
    "   `D) argsort()`"
   ]
  },
  {
   "cell_type": "markdown",
   "id": "f0dc258c",
   "metadata": {},
   "source": [
    "    Q20. When using the NumPy random module, how can you return a random number from 0 to 100 ?\n",
    "    A) np.random.randint(100)\n",
    "    B) np.random.rand(100)\n",
    "    C) np.random.rand(100)\n",
    "    D) np.random.randint(0, 100, 2)\n",
    "   `A) np.random.randint(100)`"
   ]
  },
  {
   "cell_type": "markdown",
   "id": "7cfc1901",
   "metadata": {},
   "source": [
    "    Q21. When using the NumPy random module, how can you return a Normal Data Distribution with 1000 numbers, concentrated around the number 50, with a standard deviation of 0.2 ?\n",
    "    A) random.normal(size=1000, normal=50, s=0.1)\n",
    "    B) random.normal(size=1000, loc=50, scale=0.2)\n",
    "    C) random.normal(size=1000, mean=50, std=0.2)\n",
    "    D) random.normal(50, 20, 1000)\n",
    "   `C) random.normal(size=1000, mean=50, std=0.2)`"
   ]
  },
  {
   "cell_type": "markdown",
   "id": "055bfcd2",
   "metadata": {},
   "source": [
    "    Q22. What is a correct syntax to mathematically add the numbers of arr1 to the numbers of arr2 ?\n",
    "    A) sum(arr1, arr2)\n",
    "    B) np.add(arr1, arr2)\n",
    "    C) np.append(arr1, arr2)\n",
    "    D) np.sum((arr1, arr2))\n",
    "   `A) sum(arr1, arr2)`"
   ]
  },
  {
   "cell_type": "markdown",
   "id": "59420981",
   "metadata": {},
   "source": [
    "    Q23. What is a correct syntax to subtract the numbers from arr1 with the numbers from arr2 ?\n",
    "    A) np.min(arr1, arr2)\n",
    "    B) np.minus(arr1, arr2)\n",
    "    C) np.sub(arr1, arr2)\n",
    "    D) np.subtract(arr1, arr2)\n",
    "   `D) np.subtract(arr1, arr2)`"
   ]
  },
  {
   "cell_type": "markdown",
   "id": "c6442ea3",
   "metadata": {},
   "source": [
    "    Q24. What is a correct method to round decimals in NumPY ?\n",
    "    A) All the other 3 are rounding methods in NumPy\n",
    "    B) np.fix()\n",
    "    C) np.trunc()\n",
    "    D) np.around()\n",
    "   `D) np.around()`"
   ]
  },
  {
   "cell_type": "markdown",
   "id": "424c7b6d",
   "metadata": {},
   "source": [
    "    Q25. What  would be the answer of this cumulative summation in NumPy ?\n",
    "    arr = np.array([1, 2, 3])print(np.cumsum(arr))\n",
    "    A) [6]\n",
    "    B) [1 3 6]\n",
    "    C) [10]\n",
    "    D) [3 6 9]\n",
    "   `B) [1 3 6]`"
   ]
  },
  {
   "cell_type": "markdown",
   "id": "a57ac84a",
   "metadata": {},
   "source": [
    "    Q26. Which of the function is a function to create a numpy array ?\n",
    "    A) empty()\n",
    "    B) array()\n",
    "    C) ones()\n",
    "    D) All the above\n",
    "   `B) array()`"
   ]
  },
  {
   "cell_type": "markdown",
   "id": "0cc4a533",
   "metadata": {},
   "source": [
    "    Q27. What is the output of the below code ?\n",
    "    np.arange(2, 8)\n",
    "    A) array([2, 3, 4, 5, 6, 7, 8])\n",
    "    B) array([2, 3, 4, 5, 6, 7])\n",
    "    C) array([3, 4, 5, 6, 7])\n",
    "    D) array([3, 4, 5, 6, 7, 8])\n",
    "   `B) array([2, 3, 4, 5, 6, 7])`"
   ]
  },
  {
   "cell_type": "markdown",
   "id": "61096e5b",
   "metadata": {},
   "source": [
    "    Q28. Find the output of the below code.\n",
    "    a = np.array([[[1, 2, 3], [4, 5, 6]]])print(a.ndim)\n",
    "    A) 1\n",
    "    B) 2\n",
    "    C) 3\n",
    "    D) (1, 2, 3)\n",
    "   `C) 3`"
   ]
  },
  {
   "cell_type": "markdown",
   "id": "f4d1afb5",
   "metadata": {},
   "source": [
    "    Q29. What does the function itemsize() return ?\n",
    "    A) It returns the size of the array\n",
    "    B) It returns the number of elements in the array\n",
    "    C) It returns the byte size of each element of the array\n",
    "    D) None of the above \n",
    "   `C) It returns the byte size of each element of the array`"
   ]
  },
  {
   "cell_type": "markdown",
   "id": "feea1f69",
   "metadata": {},
   "source": [
    "    Q30. Find the output of the below code \n",
    "    arr = np.array([[1, 2, 3], [4, 5, 6]])\n",
    "    print(arr[1, 2])\n",
    "    A) 6\n",
    "    B) 5\n",
    "    C) 2\n",
    "    D) Index Error\n",
    "   `A) 6`"
   ]
  },
  {
   "cell_type": "markdown",
   "id": "29eee8d0",
   "metadata": {},
   "source": [
    "    Q31. What is the ouput of the below code ?\n",
    "    np.linspace(1, 5, 5)\n",
    "    A) array([1., 2.3333333, 3.66666, 5.])\n",
    "    B) array([1, 2, 3, 4, 5])\n",
    "    C) array([1, 1.8, 2.6, 3.4, 4.2, 5])\n",
    "    D) array([1, 2, 3, 4])\n",
    "   `B) array([1, 2, 3, 4, 5])`"
   ]
  },
  {
   "cell_type": "markdown",
   "id": "66ba19ce",
   "metadata": {},
   "source": [
    "    Q32. Which of the following is code gives an error ?\n",
    "    A) a = np.array([(1, 2, 3), (4, 5, 6)]); a[(0, 1)]\n",
    "    B) a = np.array([(1, 2, 3), (4, 5, 6)]); a.reshape(2, 4)\n",
    "    C) a = np.array([(1, 2, 3), (4, 5, 6)]); a[np.arange(1), :] \n",
    "    D) All the above\n",
    "   `B) a = np.array([(1, 2, 3), (4, 5, 6)]); a.reshape(2, 4)`"
   ]
  },
  {
   "cell_type": "markdown",
   "id": "b929dac6",
   "metadata": {},
   "source": [
    "    Q33. What is the output of the below code ?\n",
    "    print(np.zeros(5).dtype)\n",
    "    A) int8\n",
    "    B) int16\n",
    "    C) uint8\n",
    "    D) float64\n",
    "   `D) float64`"
   ]
  },
  {
   "cell_type": "markdown",
   "id": "ac8d9641",
   "metadata": {},
   "source": [
    "    Q34. Which of the following is not true about the identity matrix?\n",
    "    A) It is a square matrix\n",
    "    B) It contains 1s in all the diagonals\n",
    "    C) We can create an identity matrix using the identity() function\n",
    "    D) None of the Above\n",
    "   `D) None of the Above`"
   ]
  },
  {
   "cell_type": "markdown",
   "id": "07fd5540",
   "metadata": {},
   "source": [
    "    Q35. what is the output of the below code ?\n",
    "    np.array([[1, 2, 3], [4, 5, 6]]).ravel()\n",
    "    A) array([1, 2, 3, 4, 5, 6])\n",
    "    B) array([4, 5, 6, 1, 2, 3])\n",
    "    C) array([[1, 2, 3, 4, 5, 6])\n",
    "    D) Syntax Error\n",
    "   `A) array([1, 2, 3, 4, 5, 6])`"
   ]
  },
  {
   "cell_type": "markdown",
   "id": "e1ac4a2a",
   "metadata": {},
   "source": [
    "    Q36. Which of the following will give the output as \n",
    "    array([[1, 2, 3, 1, 2, 3], [4, 5, 6, 4, 5, 6]])\n",
    "    A) arr = np.array([[1, 2, 3], [4, 5, 6]]); np.vstack((arr, arr))\n",
    "    B) arr = np.array([[1, 2, 3], [4, 5, 6]]); np.hstack((arr, arr))\n",
    "    C) arr = np.array([[1, 2, 3], [4, 5, 6]]); np.hstack(arr)\n",
    "    D) arr = np.array([[1, 2, 3], [4, 5, 6]]); np.vstack(arr)\n",
    "   `B) arr = np.array([[1, 2, 3], [4, 5, 6]]); np.hstack((arr, arr))`"
   ]
  },
  {
   "cell_type": "markdown",
   "id": "a639a046",
   "metadata": {},
   "source": [
    "    Q37. Which of the follwing functions i used to create an array containing constant value ?\n",
    "    A) constant()\n",
    "    B) same()\n",
    "    C) full()\n",
    "    D) All the above\n",
    "   `C) full()`"
   ]
  },
  {
   "cell_type": "markdown",
   "id": "b4684e5d",
   "metadata": {},
   "source": [
    "    Q38. Which of the following codes give an error ?\n",
    "    A) a1 = np.array([1, 2, 3]); a2 = np.array([0, 4, 9]); a1.dot(a2)\n",
    "    B) a1 = np.array([1, 2, 3, 3]); a2 = np.array([0, 4, 9]); np.add(a1, a2)\n",
    "    C) a = np.array([[1, 3, 5], [4, 6, 8]]); np.sum(a)\n",
    "    D) All the above\n",
    "   `B) a1 = np.array([1, 2, 3, 3]); a2 = np.array([0, 4, 9]); np.add(a1, a2)`"
   ]
  },
  {
   "cell_type": "markdown",
   "id": "c0a9ee9b",
   "metadata": {},
   "source": [
    "    Q39. Which of the following is the correct way to transpose of matrix A ?\n",
    "    A) Trans(A)\n",
    "    B) Transpose(A)\n",
    "    C) A.T\n",
    "    D) A.Transpose\n",
    "   `C) A.T`"
   ]
  },
  {
   "cell_type": "markdown",
   "id": "08a66534",
   "metadata": {},
   "source": [
    "    Q40. What is the output of the below code snippet ?\n",
    "    ```import numpy as np\n",
    "    arr1 = np.array([7,8,9,10])\n",
    "    arr2 = np.array([1,2,3,4])\n",
    "    arr3 = arr1 + arr2\n",
    "    arr3 = arr3*arr1\n",
    "    print (arr3[2])```\n",
    "    A) 21\n",
    "    B) 108\n",
    "    C) 80\n",
    "    D) 12\n",
    "   `B) 108`"
   ]
  },
  {
   "cell_type": "markdown",
   "id": "1696c415",
   "metadata": {},
   "source": [
    "    Q41. What does the size attribute in numpy used to find ?\n",
    "    A) number of items\n",
    "    B) shape\n",
    "    C) date & time\n",
    "    D) unique items\n",
    "   `A) number of items`"
   ]
  },
  {
   "cell_type": "markdown",
   "id": "0f38b22d",
   "metadata": {},
   "source": [
    "    Q42. What is the output of the below code snippet?\n",
    "    ```import numpy as np\n",
    "    arr = np.array([[4,2,0,5],[1,3,5,7]])\n",
    "    print (arr.size)```\n",
    "    A) 8\n",
    "    B) 4\n",
    "    C) 2\n",
    "    D) 6\n",
    "   `A) 8`"
   ]
  },
  {
   "cell_type": "markdown",
   "id": "cc91ea02",
   "metadata": {},
   "source": [
    "    Q43. What method is used for changing the shape of numpy arrays?\n",
    "    A) Shape()\n",
    "    B) change_shape()\n",
    "    C) update_shape()\n",
    "    D) reshape()\n",
    "   `D) reshape()`"
   ]
  },
  {
   "cell_type": "markdown",
   "id": "48f0f118",
   "metadata": {},
   "source": [
    "    Q44. What is the purpose of zero() function ?\n",
    "    A) To create a matrix with the first row and first column as 0\n",
    "    B) To create a matrix with diagonal elements as 0\n",
    "    C) To create a matrix with all elements as 0\n",
    "    D) To return an integer number 0\n",
    "   `C) To create a matrix with all elements as 0`"
   ]
  },
  {
   "cell_type": "markdown",
   "id": "d024ee5c",
   "metadata": {},
   "source": [
    "    Q45. What is the output of the below code ?\n",
    "    ```import numpy as np\n",
    "    a = np.array([1, 2, 3, 4])\n",
    "    b = np.array([5, 6, 7])\n",
    "    c = np.array([8, 9, 10, 11, 12])\n",
    "    p, q, r = np.ix_(a, b, c)\n",
    "    print(p) ```\n",
    "    \n",
    "    A) [[[1]], [[2]], [[3]], [[4]]]\n",
    "    B) [[[5], [6], [7]]]\n",
    "    C) [[[8, 9, 10, 11, 12]]]\n",
    "    D) [[[1]], [[2]], [[3]], [[4]], [[5]], [[6]], [[7]], [[8]], [[9]], [[10]], [[11]], [[12]]]\n",
    "   `A) [[[1]], [[2]], [[3]], [[4]]]`"
   ]
  },
  {
   "cell_type": "markdown",
   "id": "5338c51b",
   "metadata": {},
   "source": [
    "    Q46. NumPy arrays can be ___.\n",
    "    A) Indexed\n",
    "    B) Sliced\n",
    "    C) Iterated\n",
    "    D) All of the mentioned above\n",
    "   `D) All of the mentioned above`"
   ]
  },
  {
   "cell_type": "markdown",
   "id": "431be5cc",
   "metadata": {},
   "source": [
    "    Q47. Observe the following code and identify what will be the outcome?\n",
    "    ```import numpy as np\n",
    "    x = np.array([[0, 1],[2, 3]])\n",
    "    np.transpose(x)```\n",
    "    A) array([[0, 2], [1, 3]])\n",
    "    B) array([[0, 1], [2, 3]])\n",
    "    C) array([[2, 3], [0, 1]])\n",
    "    D) None of the mentioned above\n",
    "   `A) array([[0, 2], [1, 3]])`"
   ]
  },
  {
   "cell_type": "markdown",
   "id": "a7964684",
   "metadata": {},
   "source": [
    "    Q48.  Observe the following code and identify what will be the outcome?\n",
    "    ```import numpy as np\n",
    "    a = np.array([10, 20, 30, 40])\n",
    "    b = np.array([18, 15, 14])\n",
    "    c = np.array([25, 24, 26, 28, 23])\n",
    "    x, y, z = np.ix_(a, b, c)\n",
    "    print(x)```\n",
    "    A) [[[10]][[20]][[30]][[40]]]\n",
    "    B) [[[1]][[2]][[3]][[4]][[5]]]\n",
    "    C) [[[18]][[15]][[[14]]]\n",
    "    D) None of the mentioned above\n",
    "   `A) [[[10]][[20]][[30]][[40]]]`"
   ]
  },
  {
   "cell_type": "markdown",
   "id": "c9ecce28",
   "metadata": {},
   "source": [
    "    49. The most important object defined in NumPy is an N-dimensional array type called?\n",
    "    A. ndarray\n",
    "    B. narray\n",
    "    C. nd_array\n",
    "    D. darray\n",
    "   `A. ndarray`"
   ]
  },
  {
   "cell_type": "markdown",
   "id": "dd6baf78",
   "metadata": {},
   "source": [
    "    50. If a dimension is given as __ in a reshaping operation, the other dimensions are automatically calculated.\n",
    "    A. Zero\n",
    "    B. One\n",
    "    C. Negative one\n",
    "    D. Infinite\n",
    "   `C. Negative one`"
   ]
  }
 ],
 "metadata": {
  "kernelspec": {
   "display_name": "Python 3 (ipykernel)",
   "language": "python",
   "name": "python3"
  },
  "language_info": {
   "codemirror_mode": {
    "name": "ipython",
    "version": 3
   },
   "file_extension": ".py",
   "mimetype": "text/x-python",
   "name": "python",
   "nbconvert_exporter": "python",
   "pygments_lexer": "ipython3",
   "version": "3.10.9"
  }
 },
 "nbformat": 4,
 "nbformat_minor": 5
}
